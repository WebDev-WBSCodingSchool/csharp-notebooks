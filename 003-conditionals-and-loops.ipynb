{
  "cells": [
    {
      "cell_type": "markdown",
      "id": "96c3bcfa",
      "metadata": {},
      "source": [
        "# Conditionals and Loops\n",
        "\n",
        "Control flow statements let you change the execution of your program depending on conditions or repeat work until it is finished. In C# the most common constructs are `if..else`, `switch`, the ternary operator, `while`, `do..while`, `for`, and the `break`/`continue` keywords.\n",
        "\n",
        "## If..Else\n",
        "\n",
        "`if` statements let you run code only if a condition is true. You can add an `else` block for the alternative path."
      ]
    },
    {
      "cell_type": "code",
      "execution_count": 2,
      "id": "4addd691",
      "metadata": {},
      "outputs": [
        {
          "name": "stdout",
          "output_type": "stream",
          "text": [
            "You are an adult.\n"
          ]
        }
      ],
      "source": [
        "int age = 20;\n",
        "\n",
        "if (age >= 18)\n",
        "{\n",
        "    Console.WriteLine(\"You are an adult.\");\n",
        "}\n",
        "else\n",
        "{\n",
        "    Console.WriteLine(\"You are underage.\");\n",
        "}"
      ]
    },
    {
      "cell_type": "markdown",
      "id": "2a6c9007",
      "metadata": {},
      "source": [
        "You can also chain conditions with `else if`:"
      ]
    },
    {
      "cell_type": "code",
      "execution_count": null,
      "id": "23005e47",
      "metadata": {},
      "outputs": [],
      "source": [
        "if (age < 13)\n",
        "{\n",
        "    Console.WriteLine(\"Child\");\n",
        "}\n",
        "else if (age < 20)\n",
        "{\n",
        "    Console.WriteLine(\"Teenager\");\n",
        "}\n",
        "else\n",
        "{\n",
        "    Console.WriteLine(\"Adult\");\n",
        "}"
      ]
    },
    {
      "cell_type": "markdown",
      "id": "f53cbb82",
      "metadata": {},
      "source": [
        "## Ternary Operator\n",
        "\n",
        "The ternary operator is a shorthand for simple `if..else` expressions."
      ]
    },
    {
      "cell_type": "code",
      "execution_count": null,
      "id": "2225d0f9",
      "metadata": {},
      "outputs": [],
      "source": [
        "int number = 7;\n",
        "string parity = (number % 2 == 0) ? \"Even\" : \"Odd\";\n",
        "Console.WriteLine($\"{number} is {parity}\");"
      ]
    },
    {
      "cell_type": "markdown",
      "id": "58b611cf",
      "metadata": {},
      "source": [
        "## Switch\n",
        "\n",
        "`switch` statements are useful when you need to compare the same variable against multiple values."
      ]
    },
    {
      "cell_type": "code",
      "execution_count": null,
      "id": "af5bc210",
      "metadata": {},
      "outputs": [],
      "source": [
        "string grade = \"B\";\n",
        "\n",
        "switch (grade)\n",
        "{\n",
        "    case \"A\":\n",
        "        Console.WriteLine(\"Excellent!\");\n",
        "        break;\n",
        "    case \"B\":\n",
        "        Console.WriteLine(\"Good\");\n",
        "        break;\n",
        "    case \"C\":\n",
        "        Console.WriteLine(\"Average\");\n",
        "        break;\n",
        "    default:\n",
        "        Console.WriteLine(\"Needs improvement\");\n",
        "        break;\n",
        "}"
      ]
    },
    {
      "cell_type": "markdown",
      "id": "e6a6ace5",
      "metadata": {},
      "source": [
        "Since C# 8 you can also use **switch expressions**:"
      ]
    },
    {
      "cell_type": "code",
      "execution_count": null,
      "id": "a8b3bb57",
      "metadata": {
        "vscode": {
          "languageId": "csharp"
        }
      },
      "outputs": [],
      "source": [
        "string message = grade switch\n",
        "{\n",
        "    \"A\" => \"Excellent!\",\n",
        "    \"B\" => \"Good\",\n",
        "    \"C\" => \"Average\",\n",
        "    _   => \"Needs improvement\"\n",
        "};\n",
        "\n",
        "Console.WriteLine(message);"
      ]
    },
    {
      "cell_type": "markdown",
      "id": "d54623c9",
      "metadata": {},
      "source": [
        "## While\n",
        "\n",
        "A `while` loop repeats code as long as a condition remains true."
      ]
    },
    {
      "cell_type": "code",
      "execution_count": null,
      "id": "ea0df4fa",
      "metadata": {
        "vscode": {
          "languageId": "csharp"
        }
      },
      "outputs": [],
      "source": [
        "int count = 0;\n",
        "\n",
        "while (count < 5)\n",
        "{\n",
        "    Console.WriteLine($\"Count is {count}\");\n",
        "    count++;\n",
        "}"
      ]
    },
    {
      "cell_type": "markdown",
      "id": "31a51f1c",
      "metadata": {},
      "source": [
        "Be careful not to create infinite loops if the condition never becomes false.\n",
        "\n",
        "## Do..While\n",
        "\n",
        "A `do..while` loop always executes the body **at least once**, then checks the condition."
      ]
    },
    {
      "cell_type": "code",
      "execution_count": null,
      "id": "ada3b0ab",
      "metadata": {
        "vscode": {
          "languageId": "csharp"
        }
      },
      "outputs": [],
      "source": [
        "int number;\n",
        "\n",
        "do\n",
        "{\n",
        "    Console.Write(\"Enter a number greater than 0: \");\n",
        "    number = int.Parse(Console.ReadLine());\n",
        "} while (number <= 0);\n",
        "\n",
        "Console.WriteLine($\"You entered {number}\");"
      ]
    },
    {
      "cell_type": "markdown",
      "id": "12a9e0f3",
      "metadata": {},
      "source": [
        "## For\n",
        "\n",
        "A `for` loop is often used when you know how many times you want to repeat an action."
      ]
    },
    {
      "cell_type": "code",
      "execution_count": null,
      "id": "ab7a7f61",
      "metadata": {
        "vscode": {
          "languageId": "csharp"
        }
      },
      "outputs": [],
      "source": [
        "for (int i = 0; i < 5; i++)\n",
        "{\n",
        "    Console.WriteLine($\"Iteration {i}\");\n",
        "}"
      ]
    },
    {
      "cell_type": "markdown",
      "id": "c90837cf",
      "metadata": {},
      "source": [
        "## Break and Continue\n",
        "\n",
        "- `break` exits the nearest loop immediately.\n",
        "- `continue` skips to the next iteration without running the rest of the loop body."
      ]
    },
    {
      "cell_type": "code",
      "execution_count": null,
      "id": "74d44e92",
      "metadata": {
        "vscode": {
          "languageId": "csharp"
        }
      },
      "outputs": [],
      "source": [
        "for (int i = 0; i < 10; i++)\n",
        "{\n",
        "    if (i == 3)\n",
        "    {\n",
        "        continue; // skip 3\n",
        "    }\n",
        "    if (i == 7)\n",
        "    {\n",
        "        break; // stop the loop at 7\n",
        "    }\n",
        "    Console.WriteLine(i);\n",
        "}"
      ]
    },
    {
      "cell_type": "markdown",
      "id": "c2d2b0ce",
      "metadata": {},
      "source": [
        "## Putting it together\n",
        "\n",
        "Here is an example that combines conditionals and loops:"
      ]
    },
    {
      "cell_type": "code",
      "execution_count": null,
      "id": "670c3ef9",
      "metadata": {
        "vscode": {
          "languageId": "csharp"
        }
      },
      "outputs": [],
      "source": [
        "for (int i = 1; i <= 10; i++)\n",
        "{\n",
        "    string label = (i % 2 == 0) ? \"even\" : \"odd\"; // ternary operator\n",
        "    Console.WriteLine($\"{i} is {label}\");\n",
        "}"
      ]
    },
    {
      "cell_type": "markdown",
      "id": "18e7585c",
      "metadata": {},
      "source": [
        "Conditionals and loops are the building blocks of program logic. In the next lesson we will extend these ideas with arrays and collections, where loops become even more powerful."
      ]
    }
  ],
  "metadata": {
    "kernelspec": {
      "display_name": ".NET (C#)",
      "language": "C#",
      "name": ".net-csharp"
    },
    "language_info": {
      "name": "polyglot-notebook"
    },
    "polyglot_notebook": {
      "kernelInfo": {
        "defaultKernelName": "csharp",
        "items": [
          {
            "aliases": [],
            "languageName": "csharp",
            "name": "csharp"
          }
        ]
      }
    }
  },
  "nbformat": 4,
  "nbformat_minor": 5
}
